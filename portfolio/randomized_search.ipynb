{
 "cells": [
  {
   "cell_type": "code",
   "execution_count": 1,
   "metadata": {},
   "outputs": [],
   "source": [
    "import os\n",
    "import sys\n",
    "import time\n",
    "import warnings\n",
    "import platform\n",
    "from datetime import datetime,timedelta\n",
    "\n",
    "# Basic Data Analysis Tools\n",
    "import numpy as np\n",
    "import pandas as pd\n",
    "\n",
    "# https://financedata.github.io/posts/finance-data-reader-users-guide.html\n",
    "# import FinanceDataReader as fdr\n",
    "\n",
    "# Exploratory Data Analysis (EDA)\n",
    "import matplotlib as mpl\n",
    "from matplotlib import rc\n",
    "# import seaborn as sns\n",
    "import matplotlib.pyplot as plt\n",
    "import missingno as msno\n",
    "# import plotly.offline as offline\n",
    "# import plotly.graph_objs as go\n",
    "import scipy as sp\n",
    "\n",
    "# Data Preprocessing and Cleansing\n",
    "from sklearn.preprocessing import LabelEncoder\n",
    "from scipy.integrate import quad\n",
    "\n",
    "# Feature Engineering\n",
    "from sklearn.preprocessing import MinMaxScaler\n",
    "from sklearn.preprocessing import StandardScaler\n",
    "# from sklearn.impute import SimpleImputer\n",
    "\n",
    "# Train / Test Dataset\n",
    "from imblearn.over_sampling import SMOTE\n",
    "from sklearn.model_selection import train_test_split\n",
    "from sklearn.model_selection import TimeSeriesSplit\n",
    "from sklearn.model_selection import cross_validate\n",
    "from sklearn.model_selection import KFold\n",
    "from sklearn.model_selection import cross_val_score\n",
    "\n",
    "# Machine Learning Modeling\n",
    "from sklearn.tree import DecisionTreeClassifier\n",
    "from sklearn.ensemble import RandomForestClassifier\n",
    "from sklearn.linear_model import LogisticRegressionCV\n",
    "from sklearn.neighbors import KNeighborsClassifier\n",
    "from sklearn.svm import SVC\n",
    "from sklearn.ensemble import GradientBoostingClassifier,AdaBoostClassifier,VotingClassifier,BaggingClassifier\n",
    "from xgboost import XGBClassifier\n",
    "from lightgbm import LGBMClassifier\n",
    "from catboost import CatBoostClassifier\n",
    "# from vecstack import stacking\n",
    "\n",
    "# Hyper Param Optimization\n",
    "from sklearn.model_selection import GridSearchCV\n",
    "\n",
    "# testing\n",
    "from sklearn.metrics import accuracy_score\n",
    "from sklearn.metrics import recall_score\n",
    "from sklearn.metrics import precision_score\n",
    "from sklearn.metrics import f1_score\n",
    "from sklearn.metrics import roc_auc_score\n",
    "from sklearn.metrics import classification_report\n",
    "\n",
    "# from sklearn.externals import joblib \n",
    "from dateutil.relativedelta import *\n",
    "import datetime, time"
   ]
  },
  {
   "cell_type": "code",
   "execution_count": 2,
   "metadata": {},
   "outputs": [],
   "source": [
    "import numpy as np\n",
    "import pandas as pd\n",
    "from time import gmtime, strftime\n",
    "import gc\n",
    "\n",
    "from sklearn.model_selection import (train_test_split, GridSearchCV)\n",
    "from sklearn.preprocessing import LabelEncoder\n",
    "import lightgbm as lgb\n",
    "from tqdm import tqdm\n",
    "from sklearn.metrics import (roc_curve, auc, accuracy_score)\n",
    "from sklearn.model_selection import RandomizedSearchCV"
   ]
  },
  {
   "cell_type": "code",
   "execution_count": 3,
   "metadata": {},
   "outputs": [],
   "source": [
    "from scipy.stats import uniform as sp_randFloat\n",
    "from scipy.stats import randint as sp_randInt"
   ]
  },
  {
   "cell_type": "code",
   "execution_count": 4,
   "metadata": {},
   "outputs": [],
   "source": [
    "# print(grid.best_params_)\n",
    "# print(grid.best_score_)\n",
    "\n",
    "# params['colsample_bytree'] = grid.best_params_['colsample_bytree']\n",
    "# params['learning_rate'] = grid.best_params_['learning_rate'] \n",
    "# params['max_bin'] = grid.best_params_['max_bin']\n",
    "# params['num_leaves'] = grid.best_params_['num_leaves']\n",
    "# params['reg_alpha'] = grid.best_params_['reg_alpha']\n",
    "# params['reg_lambda'] = grid.best_params_['reg_lambda']\n",
    "# params['subsample'] = grid.best_params_['subsample']\n",
    "\n",
    "\n",
    "# X_test = np.array(test.drop(['id'], axis=1))\n",
    "# ids = test['id'].values\n",
    "\n",
    "\n",
    "# X_train, X_valid, y_train, y_valid = train_test_split(X, y, test_size=0.1, random_state = 12)\n",
    "    \n",
    "# del X, y; gc.collect();\n",
    "\n",
    "# d_train = lgb.Dataset(X_train, label=y_train)\n",
    "# d_valid = lgb.Dataset(X_valid, label=y_valid) \n",
    "\n",
    "# watchlist = [d_train, d_valid]\n",
    "\n",
    "\n",
    "# model = lgb.train(params, train_set=d_train, num_boost_round=1000, valid_sets=watchlist, early_stopping_rounds=50, verbose_eval=4)\n",
    "\n",
    "# p_test = model.predict(X_test)\n",
    "\n",
    "# subm = pd.DataFrame()\n",
    "# subm['id'] = ids\n",
    "# subm['target'] = p_test\n",
    "# submName = strftime(\"%Y%m%d%H%M%S\", gmtime()) + '_submission.csv.gz'\n",
    "# subm.to_csv(submName, compression = 'gzip', index=False, float_format = '%.5f')"
   ]
  },
  {
   "cell_type": "code",
   "execution_count": 5,
   "metadata": {},
   "outputs": [],
   "source": [
    "# ['이지바이오.xlsx', '한일사료.xlsx', '케이씨피드.xlsx', '대주산업.xlsx']\n",
    "company = '한국콜마'"
   ]
  },
  {
   "cell_type": "code",
   "execution_count": 6,
   "metadata": {},
   "outputs": [],
   "source": [
    "kocolma=['_change_usd_krw', 'willr', 'adx', 'ko_bond_mean3', 'volumne_week_', 'kospi', 'rate_rolling_150',\n",
    " 'usd_krw_merge', 'usd_krw_std5', '_change_cny_krw', 'adosc', 'Thailand', 'china_per_korea', 'cci', 'momentum',\n",
    " 'asset_1000_', 'cny_krw_mean5', 'usd_krw_mean3', 'profit_std5', 'kospi_vol_merge', 'ema20', 'macd', \n",
    " 'stoch_slowd', 'rate_rolling_10', '_change_korean_bond', 'China_P__R_', 'obv', 'sales_1000_', 'ko_bond_std5',\n",
    " 'rate_rolling_120', 'stoch_slowk', 'rate_rolling_3', 'kospivol_mean3', 'china_come', '_China_Korean_',\n",
    " 'volumne_mean_5d__week_', 'Overseas_Korean', 'kospivol_std5','_change_kospi_vol', 'G_TOTAL', '_China_',  'target',\n",
    "       'profit_rate',\n",
    "       'adjusted_price',\n",
    "              'event1', 'event2', 'event3', 'event4', 'event5',\n",
    "                    'event6', 'event7', 'event8', 'event9', 'event10', 'event11', 'event12',\n",
    "                    'event13', 'event14', 'event15', 'event16']\n",
    "\n",
    "                    \n",
    "kspd = ['stoch_slowk',\n",
    " 'rate_rolling_5',\n",
    " 'volumne(week)',\n",
    " 'leanhog_std5',\n",
    " 'volume_livecattle_f',\n",
    " 'cci',\n",
    " 'livecattle_std5',\n",
    " 'rate_rolling_30',\n",
    " 'change%_kospi_volatility',\n",
    " 'volumne(mean_5d)(week)',\n",
    " 'ko_bond_std5',\n",
    " 'rate_rolling_3',\n",
    " 'change%_leanhog_f',\n",
    " 'rate_rolling_150',\n",
    " 'volume_leanhog_f',\n",
    " 'kospi_vol_merge',\n",
    " 'adosc',\n",
    " 'stoch_slowd',\n",
    " 'willr',\n",
    " 'change%_USD_KRW',\n",
    " 'usd_krw_std5',\n",
    " 'kospivol_std5',\n",
    " 'kospivol_mean3',\n",
    " 'Change %_South Korea 5-Year Bond Yield',\n",
    " 'change%_livecattle_f',\n",
    "        'target',\n",
    "       'profit_rate',\n",
    "       'adjusted_price',\n",
    "              'event1', 'event2', 'event3', 'event4', 'event5',\n",
    "                    'event6', 'event7', 'event8', 'event9', 'event10', 'event11', 'event12',\n",
    "                    'event13', 'event14', 'event15', 'event16']"
   ]
  },
  {
   "cell_type": "code",
   "execution_count": 7,
   "metadata": {},
   "outputs": [
    {
     "output_type": "execute_result",
     "data": {
      "text/plain": "            asset_1000_   debt_1000_  sales_1000_  adjusted_price  \\\nDate                                                                \n2015-09-01  337026000.0  124533978.0  128171756.0        103000.0   \n2015-09-02  337026000.0  124533978.0  128171756.0        101000.0   \n2015-09-03  337026000.0  124533978.0  128171756.0         99100.0   \n2015-09-04  337026000.0  124533978.0  128171756.0         91700.0   \n2015-09-07  337026000.0  124533978.0  128171756.0         94500.0   \n\n            volumne_mean_5d__week_  volumne_week_  adjusted_BPS  adjusted_EPS  \\\nDate                                                                            \n2015-09-01                158775.0       126671.0      10070.64        526.56   \n2015-09-02                141295.0       122104.0      10070.64        526.56   \n2015-09-03                124782.0       129660.0      10070.64        526.56   \n2015-09-04                160102.0       323880.0      10070.64        526.56   \n2015-09-07                162380.0       109586.0      10070.64        526.56   \n\n            _change_kospi_vol  _change_korean_bond  ...  usd_krw_mean3  \\\nDate                                                ...                  \n2015-09-01              11.85                 0.94  ...            NaN   \n2015-09-02               1.40                -2.83  ...            NaN   \n2015-09-03              -8.88                -0.05  ...    1182.908333   \n2015-09-04              11.42                -2.49  ...    1188.196667   \n2015-09-07               6.16                -0.05  ...    1195.264167   \n\n            cny_krw_mean3  china_per_korea       us_x_ch    china_come  \\\nDate                                                                     \n2015-09-01            NaN       609.096191  1.390896e+06  1.760723e+09   \n2015-09-02            NaN       622.564879  1.395877e+06  1.760723e+09   \n2015-09-03    1182.908333       629.762757  1.411083e+06  1.760723e+09   \n2015-09-04    1188.196667       642.595430  1.428569e+06  1.760723e+09   \n2015-09-07    1195.264167       654.161001  1.446427e+06  1.760723e+09   \n\n            profit_std5  kospivol_std5  ko_bond_std5  usd_krw_std5  \\\nDate                                                                 \n2015-09-01          NaN            NaN           NaN           NaN   \n2015-09-02          NaN            NaN           NaN           NaN   \n2015-09-03          NaN            NaN           NaN           NaN   \n2015-09-04          NaN            NaN           NaN           NaN   \n2015-09-07          0.0       1.293324      0.037317      9.695803   \n\n            cny_krw_mean5  \nDate                       \n2015-09-01            NaN  \n2015-09-02            NaN  \n2015-09-03            NaN  \n2015-09-04            NaN  \n2015-09-07       9.695803  \n\n[5 rows x 81 columns]",
      "text/html": "<div>\n<style scoped>\n    .dataframe tbody tr th:only-of-type {\n        vertical-align: middle;\n    }\n\n    .dataframe tbody tr th {\n        vertical-align: top;\n    }\n\n    .dataframe thead th {\n        text-align: right;\n    }\n</style>\n<table border=\"1\" class=\"dataframe\">\n  <thead>\n    <tr style=\"text-align: right;\">\n      <th></th>\n      <th>asset_1000_</th>\n      <th>debt_1000_</th>\n      <th>sales_1000_</th>\n      <th>adjusted_price</th>\n      <th>volumne_mean_5d__week_</th>\n      <th>volumne_week_</th>\n      <th>adjusted_BPS</th>\n      <th>adjusted_EPS</th>\n      <th>_change_kospi_vol</th>\n      <th>_change_korean_bond</th>\n      <th>...</th>\n      <th>usd_krw_mean3</th>\n      <th>cny_krw_mean3</th>\n      <th>china_per_korea</th>\n      <th>us_x_ch</th>\n      <th>china_come</th>\n      <th>profit_std5</th>\n      <th>kospivol_std5</th>\n      <th>ko_bond_std5</th>\n      <th>usd_krw_std5</th>\n      <th>cny_krw_mean5</th>\n    </tr>\n    <tr>\n      <th>Date</th>\n      <th></th>\n      <th></th>\n      <th></th>\n      <th></th>\n      <th></th>\n      <th></th>\n      <th></th>\n      <th></th>\n      <th></th>\n      <th></th>\n      <th></th>\n      <th></th>\n      <th></th>\n      <th></th>\n      <th></th>\n      <th></th>\n      <th></th>\n      <th></th>\n      <th></th>\n      <th></th>\n      <th></th>\n    </tr>\n  </thead>\n  <tbody>\n    <tr>\n      <td>2015-09-01</td>\n      <td>337026000.0</td>\n      <td>124533978.0</td>\n      <td>128171756.0</td>\n      <td>103000.0</td>\n      <td>158775.0</td>\n      <td>126671.0</td>\n      <td>10070.64</td>\n      <td>526.56</td>\n      <td>11.85</td>\n      <td>0.94</td>\n      <td>...</td>\n      <td>NaN</td>\n      <td>NaN</td>\n      <td>609.096191</td>\n      <td>1.390896e+06</td>\n      <td>1.760723e+09</td>\n      <td>NaN</td>\n      <td>NaN</td>\n      <td>NaN</td>\n      <td>NaN</td>\n      <td>NaN</td>\n    </tr>\n    <tr>\n      <td>2015-09-02</td>\n      <td>337026000.0</td>\n      <td>124533978.0</td>\n      <td>128171756.0</td>\n      <td>101000.0</td>\n      <td>141295.0</td>\n      <td>122104.0</td>\n      <td>10070.64</td>\n      <td>526.56</td>\n      <td>1.40</td>\n      <td>-2.83</td>\n      <td>...</td>\n      <td>NaN</td>\n      <td>NaN</td>\n      <td>622.564879</td>\n      <td>1.395877e+06</td>\n      <td>1.760723e+09</td>\n      <td>NaN</td>\n      <td>NaN</td>\n      <td>NaN</td>\n      <td>NaN</td>\n      <td>NaN</td>\n    </tr>\n    <tr>\n      <td>2015-09-03</td>\n      <td>337026000.0</td>\n      <td>124533978.0</td>\n      <td>128171756.0</td>\n      <td>99100.0</td>\n      <td>124782.0</td>\n      <td>129660.0</td>\n      <td>10070.64</td>\n      <td>526.56</td>\n      <td>-8.88</td>\n      <td>-0.05</td>\n      <td>...</td>\n      <td>1182.908333</td>\n      <td>1182.908333</td>\n      <td>629.762757</td>\n      <td>1.411083e+06</td>\n      <td>1.760723e+09</td>\n      <td>NaN</td>\n      <td>NaN</td>\n      <td>NaN</td>\n      <td>NaN</td>\n      <td>NaN</td>\n    </tr>\n    <tr>\n      <td>2015-09-04</td>\n      <td>337026000.0</td>\n      <td>124533978.0</td>\n      <td>128171756.0</td>\n      <td>91700.0</td>\n      <td>160102.0</td>\n      <td>323880.0</td>\n      <td>10070.64</td>\n      <td>526.56</td>\n      <td>11.42</td>\n      <td>-2.49</td>\n      <td>...</td>\n      <td>1188.196667</td>\n      <td>1188.196667</td>\n      <td>642.595430</td>\n      <td>1.428569e+06</td>\n      <td>1.760723e+09</td>\n      <td>NaN</td>\n      <td>NaN</td>\n      <td>NaN</td>\n      <td>NaN</td>\n      <td>NaN</td>\n    </tr>\n    <tr>\n      <td>2015-09-07</td>\n      <td>337026000.0</td>\n      <td>124533978.0</td>\n      <td>128171756.0</td>\n      <td>94500.0</td>\n      <td>162380.0</td>\n      <td>109586.0</td>\n      <td>10070.64</td>\n      <td>526.56</td>\n      <td>6.16</td>\n      <td>-0.05</td>\n      <td>...</td>\n      <td>1195.264167</td>\n      <td>1195.264167</td>\n      <td>654.161001</td>\n      <td>1.446427e+06</td>\n      <td>1.760723e+09</td>\n      <td>0.0</td>\n      <td>1.293324</td>\n      <td>0.037317</td>\n      <td>9.695803</td>\n      <td>9.695803</td>\n    </tr>\n  </tbody>\n</table>\n<p>5 rows × 81 columns</p>\n</div>"
     },
     "metadata": {},
     "execution_count": 7
    }
   ],
   "source": [
    "os.chdir(r'G:\\공유 드라이브\\Boad ADV Stock\\화장품')\n",
    "data = pd.read_csv('data_{}.csv'.format(company),thousands=',',index_col=0)\n",
    "data.head()"
   ]
  },
  {
   "cell_type": "code",
   "execution_count": null,
   "metadata": {},
   "outputs": [],
   "source": []
  },
  {
   "cell_type": "code",
   "execution_count": 8,
   "metadata": {},
   "outputs": [],
   "source": [
    "data= data[kocolma]"
   ]
  },
  {
   "cell_type": "code",
   "execution_count": 9,
   "metadata": {},
   "outputs": [],
   "source": [
    "test_data = data['2019':]\n",
    "train_data = data['2015':'2019']\n",
    "col = train_data.columns.to_list()\n",
    "del col[col.index('target')]\n",
    "del col[col.index('profit_rate')]\n",
    "\n",
    "X = train_data[col]\n",
    "y = train_data['target']\n",
    "test_X = test_data[col]\n",
    "test_y = test_data['target']\n",
    "\n",
    "X_train, X_val, y_train, y_val = train_test_split(X,y,test_size=0.2,random_state=2019)\n"
   ]
  },
  {
   "cell_type": "code",
   "execution_count": 10,
   "metadata": {},
   "outputs": [],
   "source": [
    "n_estimators = [int(x) for x in range(30,500,50)]\n",
    "importance_type = ['split','gain']\n",
    "lambda_l1 = sp_randFloat()\n",
    "lambda_l2 = sp_randFloat()\n",
    "max_depth =  sp_randInt(3, 30)\n",
    "depth = sp_randInt(3, 30)\n",
    "min_child_samples = sp_randInt(1,7)\n",
    "min_data_in_leaf = sp_randInt(1,7)\n",
    "min_sum_hessian_in_leaf = sp_randInt(1,10)\n",
    "num_leaves = sp_randInt(10,50)\n",
    "bagging_fraction = sp_randFloat()\n",
    "feature_fraction = sp_randFloat()\n",
    "learning_rate = sp_randFloat()\n",
    "max_bin = sp_randInt(low=0, high=30)\n",
    "min_gain_to_split = sp_randFloat()\n",
    "max_leaf_nodes = sp_randInt(10,50)\n",
    "min_samples_leaf = sp_randInt(2,30)\n",
    "min_samples_split = sp_randInt(2,30)\n",
    "min_weight_fraction_leaf = sp_randFloat()\n",
    "l2_leaf_reg =sp_randFloat()\n",
    "border_count = sp_randInt(1,30)\n",
    "ctr_border_count= sp_randInt(1,30)\n",
    "gamma = sp_randFloat()\n",
    "min_child_weight =  np.linspace(0.1, 4, 10)\n",
    "\n",
    "max_samples = sp_randInt(1,10)\n",
    "max_features = sp_randInt(10,50)\n",
    "bagging_temperature = sp_randInt(0, 5)\n"
   ]
  },
  {
   "cell_type": "code",
   "execution_count": null,
   "metadata": {},
   "outputs": [],
   "source": []
  },
  {
   "cell_type": "code",
   "execution_count": 11,
   "metadata": {},
   "outputs": [],
   "source": [
    "lgbm_params ={'n_estimators': n_estimators,\n",
    "              'importance_type':importance_type,\n",
    "              'lambda_l1':lambda_l1,\n",
    "              'lambda_l2':lambda_l2,\n",
    "              'max_depth':max_depth,\n",
    "              'min_child_samples':min_child_samples,\n",
    "              'min_data_in_leaf':min_data_in_leaf,\n",
    "              'min_sum_hessian_in_leaf':min_sum_hessian_in_leaf,\n",
    "              'num_leaves':num_leaves,\n",
    "              'bagging_fraction':bagging_fraction,\n",
    "              'feature_fraction':feature_fraction,\n",
    "              'max_bin':max_bin,\n",
    "              'learning_rate':learning_rate,\n",
    "              'min_gain_to_split':min_gain_to_split\n",
    "             }"
   ]
  },
  {
   "cell_type": "code",
   "execution_count": 12,
   "metadata": {},
   "outputs": [],
   "source": [
    "rf_params = {'max_depth':max_depth,\n",
    "             'max_leaf_nodes': max_leaf_nodes,\n",
    "             'min_samples_leaf':min_samples_leaf,\n",
    "             'min_samples_split':min_samples_split,\n",
    "             'n_estimators':n_estimators,\n",
    "             'min_weight_fraction_leaf':min_weight_fraction_leaf\n",
    "            }"
   ]
  },
  {
   "cell_type": "code",
   "execution_count": 13,
   "metadata": {},
   "outputs": [],
   "source": [
    "catb_params = {'learning_rate':learning_rate,\n",
    "               'depth':depth,\n",
    "               'l2_leaf_reg':l2_leaf_reg,\n",
    "               'border_count':border_count,\n",
    "            #    'ctr_border_count':ctr_border_count,\n",
    "               'n_estimators':n_estimators,\n",
    "               'bagging_temperature' : bagging_temperature,\n",
    "               'min_data_in_leaf' : min_data_in_leaf\n",
    "              }"
   ]
  },
  {
   "cell_type": "code",
   "execution_count": 14,
   "metadata": {},
   "outputs": [],
   "source": [
    "xgb_params = {'max_depth':max_depth,\n",
    "              'learning_rate':learning_rate,\n",
    "              'gamma':gamma,\n",
    "              'min_child_weight':min_child_weight,\n",
    "              'n_estimators':n_estimators\n",
    "             }"
   ]
  },
  {
   "cell_type": "code",
   "execution_count": 15,
   "metadata": {},
   "outputs": [],
   "source": [
    "model_lgbm = LGBMClassifier(class_weight = 'balanced', boosting_type='gbdt',random_state=100)\n",
    "model_rf = RandomForestClassifier(class_weight='balanced', bootstrap=True,random_state=100)\n",
    "model_catb = CatBoostClassifier(class_weights=[3, 1, 0.5, 1, 2],random_state=100)\n",
    "model_xgb = XGBClassifier(booster='gbtree', objective='multiclass',random_state=100)"
   ]
  },
  {
   "cell_type": "code",
   "execution_count": 16,
   "metadata": {},
   "outputs": [],
   "source": [
    "base_estimator = [model_lgbm, model_catb, model_rf, model_xgb]"
   ]
  },
  {
   "cell_type": "code",
   "execution_count": 17,
   "metadata": {},
   "outputs": [],
   "source": [
    "bagging_params ={ 'base_estimator' : base_estimator,\n",
    "            'n_estimators': n_estimators,\n",
    "            'max_samples' : max_samples,\n",
    "            'max_features' : max_features\n",
    "             }"
   ]
  },
  {
   "cell_type": "code",
   "execution_count": 18,
   "metadata": {},
   "outputs": [],
   "source": [
    "model_bagging = BaggingClassifier()"
   ]
  },
  {
   "cell_type": "code",
   "execution_count": 19,
   "metadata": {},
   "outputs": [],
   "source": [
    "def random_search(model, params, X_train, y_train, X_val, y_val):\n",
    "    print('-'*100)\n",
    "    start_time = datetime.datetime.now()\n",
    "    print('Start Time : {}'.format(start_time))\n",
    "    \n",
    "    rnd_search = RandomizedSearchCV(model,\n",
    "                                   param_distributions=params,\n",
    "                                   n_iter = 500,\n",
    "                                   cv = 2,\n",
    "                                   scoring ='accuracy',\n",
    "                                   verbose =2,\n",
    "                                   n_jobs=2,\n",
    "                                   random_state=100)\n",
    "    \n",
    "    search = rnd_search.fit(X_train, y_train)\n",
    "\n",
    "\n",
    "\n",
    "    print('Best Estimator : {}'.format(search.best_estimator_))\n",
    "\n",
    "    print('Best Params : {}'.format(search.best_params_))\n",
    "\n",
    "    scores_df = pd.DataFrame(search.cv_results_)\n",
    "    scores_df.to_csv(\"scores_df_{}.csv\".format(company))\n",
    "    display(scores_df.head())\n",
    "\n",
    "    print(' Grid Search Score : {}'.format(\n",
    "        search.score(X_val, y_val)))\n",
    "\n",
    "    end_time = datetime.datetime.now()\n",
    "\n",
    "    print('End Time : {}'.format(start_time))\n",
    "    print('Duration Time : {}'.format(end_time-start_time))\n"
   ]
  },
  {
   "cell_type": "code",
   "execution_count": 20,
   "metadata": {
    "scrolled": false,
    "tags": []
   },
   "outputs": [
    {
     "output_type": "stream",
     "name": "stdout",
     "text": "----------------------------------------------------------------------------------------------------\nStart Time : 2020-07-31 13:56:56.492439\nFitting 2 folds for each of 500 candidates, totalling 1000 fits\n[Parallel(n_jobs=2)]: Using backend LokyBackend with 2 concurrent workers.\n[Parallel(n_jobs=2)]: Done  37 tasks      | elapsed: 41.0min\n[Parallel(n_jobs=2)]: Done 158 tasks      | elapsed: 136.6min\n[Parallel(n_jobs=2)]: Done 361 tasks      | elapsed: 248.3min\n[Parallel(n_jobs=2)]: Done 644 tasks      | elapsed: 455.9min\n[Parallel(n_jobs=2)]: Done 1000 out of 1000 | elapsed: 690.3min finished\n0:\tlearn: 1.1920588\ttotal: 61ms\tremaining: 20.1s\n1:\tlearn: 0.9125024\ttotal: 65.8ms\tremaining: 10.8s\n2:\tlearn: 0.6798663\ttotal: 71.7ms\tremaining: 7.81s\n3:\tlearn: 0.5916772\ttotal: 77.5ms\tremaining: 6.32s\n4:\tlearn: 0.4785015\ttotal: 83.5ms\tremaining: 5.43s\n5:\tlearn: 0.4056950\ttotal: 89.1ms\tremaining: 4.81s\n6:\tlearn: 0.3391871\ttotal: 94.2ms\tremaining: 4.35s\n7:\tlearn: 0.2747477\ttotal: 99.1ms\tremaining: 3.99s\n8:\tlearn: 0.2318579\ttotal: 104ms\tremaining: 3.71s\n9:\tlearn: 0.2016750\ttotal: 110ms\tremaining: 3.52s\n10:\tlearn: 0.1752096\ttotal: 115ms\tremaining: 3.34s\n11:\tlearn: 0.1493666\ttotal: 122ms\tremaining: 3.23s\n12:\tlearn: 0.1338525\ttotal: 127ms\tremaining: 3.09s\n13:\tlearn: 0.1178142\ttotal: 132ms\tremaining: 2.99s\n14:\tlearn: 0.1086600\ttotal: 138ms\tremaining: 2.9s\n15:\tlearn: 0.0930484\ttotal: 142ms\tremaining: 2.8s\n16:\tlearn: 0.0841089\ttotal: 149ms\tremaining: 2.74s\n17:\tlearn: 0.0740939\ttotal: 155ms\tremaining: 2.68s\n18:\tlearn: 0.0681627\ttotal: 160ms\tremaining: 2.61s\n19:\tlearn: 0.0596472\ttotal: 164ms\tremaining: 2.54s\n20:\tlearn: 0.0533715\ttotal: 171ms\tremaining: 2.52s\n21:\tlearn: 0.0474534\ttotal: 176ms\tremaining: 2.46s\n22:\tlearn: 0.0443343\ttotal: 181ms\tremaining: 2.42s\n23:\tlearn: 0.0398937\ttotal: 187ms\tremaining: 2.38s\n24:\tlearn: 0.0370241\ttotal: 192ms\tremaining: 2.35s\n25:\tlearn: 0.0338046\ttotal: 198ms\tremaining: 2.31s\n26:\tlearn: 0.0312032\ttotal: 203ms\tremaining: 2.27s\n27:\tlearn: 0.0289801\ttotal: 208ms\tremaining: 2.24s\n28:\tlearn: 0.0264326\ttotal: 213ms\tremaining: 2.21s\n29:\tlearn: 0.0243735\ttotal: 218ms\tremaining: 2.17s\n30:\tlearn: 0.0230017\ttotal: 222ms\tremaining: 2.14s\n31:\tlearn: 0.0217458\ttotal: 228ms\tremaining: 2.12s\n32:\tlearn: 0.0201468\ttotal: 233ms\tremaining: 2.1s\n33:\tlearn: 0.0191750\ttotal: 237ms\tremaining: 2.06s\n34:\tlearn: 0.0181280\ttotal: 242ms\tremaining: 2.04s\n35:\tlearn: 0.0172195\ttotal: 247ms\tremaining: 2.01s\n36:\tlearn: 0.0165062\ttotal: 252ms\tremaining: 1.99s\n37:\tlearn: 0.0156053\ttotal: 257ms\tremaining: 1.98s\n38:\tlearn: 0.0149963\ttotal: 262ms\tremaining: 1.95s\n39:\tlearn: 0.0145063\ttotal: 267ms\tremaining: 1.93s\n40:\tlearn: 0.0139183\ttotal: 272ms\tremaining: 1.92s\n41:\tlearn: 0.0133497\ttotal: 276ms\tremaining: 1.9s\n42:\tlearn: 0.0128166\ttotal: 282ms\tremaining: 1.88s\n43:\tlearn: 0.0123096\ttotal: 286ms\tremaining: 1.86s\n44:\tlearn: 0.0117327\ttotal: 292ms\tremaining: 1.85s\n45:\tlearn: 0.0112758\ttotal: 297ms\tremaining: 1.83s\n46:\tlearn: 0.0108006\ttotal: 303ms\tremaining: 1.82s\n47:\tlearn: 0.0104845\ttotal: 309ms\tremaining: 1.82s\n48:\tlearn: 0.0100895\ttotal: 314ms\tremaining: 1.8s\n49:\tlearn: 0.0097008\ttotal: 319ms\tremaining: 1.79s\n50:\tlearn: 0.0094226\ttotal: 324ms\tremaining: 1.77s\n51:\tlearn: 0.0091044\ttotal: 329ms\tremaining: 1.76s\n52:\tlearn: 0.0087759\ttotal: 334ms\tremaining: 1.75s\n53:\tlearn: 0.0085091\ttotal: 339ms\tremaining: 1.73s\n54:\tlearn: 0.0082692\ttotal: 343ms\tremaining: 1.72s\n55:\tlearn: 0.0080000\ttotal: 348ms\tremaining: 1.7s\n56:\tlearn: 0.0077487\ttotal: 353ms\tremaining: 1.69s\n57:\tlearn: 0.0075811\ttotal: 359ms\tremaining: 1.68s\n58:\tlearn: 0.0073453\ttotal: 363ms\tremaining: 1.67s\n59:\tlearn: 0.0071275\ttotal: 368ms\tremaining: 1.66s\n60:\tlearn: 0.0069446\ttotal: 372ms\tremaining: 1.64s\n61:\tlearn: 0.0067398\ttotal: 378ms\tremaining: 1.63s\n62:\tlearn: 0.0065671\ttotal: 384ms\tremaining: 1.63s\n63:\tlearn: 0.0064188\ttotal: 389ms\tremaining: 1.62s\n64:\tlearn: 0.0062661\ttotal: 394ms\tremaining: 1.61s\n65:\tlearn: 0.0061343\ttotal: 399ms\tremaining: 1.59s\n66:\tlearn: 0.0059828\ttotal: 405ms\tremaining: 1.59s\n67:\tlearn: 0.0058723\ttotal: 409ms\tremaining: 1.58s\n68:\tlearn: 0.0057617\ttotal: 414ms\tremaining: 1.56s\n69:\tlearn: 0.0056322\ttotal: 418ms\tremaining: 1.55s\n70:\tlearn: 0.0054970\ttotal: 423ms\tremaining: 1.54s\n71:\tlearn: 0.0053663\ttotal: 429ms\tremaining: 1.54s\n72:\tlearn: 0.0052514\ttotal: 434ms\tremaining: 1.53s\n73:\tlearn: 0.0051337\ttotal: 439ms\tremaining: 1.52s\n74:\tlearn: 0.0050347\ttotal: 443ms\tremaining: 1.51s\n75:\tlearn: 0.0049398\ttotal: 448ms\tremaining: 1.5s\n76:\tlearn: 0.0048430\ttotal: 452ms\tremaining: 1.49s\n77:\tlearn: 0.0047464\ttotal: 457ms\tremaining: 1.48s\n78:\tlearn: 0.0046546\ttotal: 461ms\tremaining: 1.47s\n79:\tlearn: 0.0045807\ttotal: 467ms\tremaining: 1.46s\n80:\tlearn: 0.0044982\ttotal: 472ms\tremaining: 1.45s\n81:\tlearn: 0.0044248\ttotal: 477ms\tremaining: 1.44s\n82:\tlearn: 0.0043408\ttotal: 482ms\tremaining: 1.43s\n83:\tlearn: 0.0042643\ttotal: 486ms\tremaining: 1.42s\n84:\tlearn: 0.0041968\ttotal: 491ms\tremaining: 1.41s\n85:\tlearn: 0.0041275\ttotal: 495ms\tremaining: 1.41s\n86:\tlearn: 0.0040607\ttotal: 500ms\tremaining: 1.4s\n87:\tlearn: 0.0039957\ttotal: 504ms\tremaining: 1.39s\n88:\tlearn: 0.0039392\ttotal: 509ms\tremaining: 1.38s\n89:\tlearn: 0.0038721\ttotal: 514ms\tremaining: 1.37s\n90:\tlearn: 0.0038020\ttotal: 518ms\tremaining: 1.36s\n91:\tlearn: 0.0037370\ttotal: 523ms\tremaining: 1.35s\n92:\tlearn: 0.0036782\ttotal: 528ms\tremaining: 1.34s\n93:\tlearn: 0.0036216\ttotal: 533ms\tremaining: 1.34s\n94:\tlearn: 0.0035781\ttotal: 537ms\tremaining: 1.33s\n95:\tlearn: 0.0035219\ttotal: 543ms\tremaining: 1.32s\n96:\tlearn: 0.0034658\ttotal: 549ms\tremaining: 1.32s\n97:\tlearn: 0.0034155\ttotal: 553ms\tremaining: 1.31s\n98:\tlearn: 0.0033597\ttotal: 559ms\tremaining: 1.3s\n99:\tlearn: 0.0033115\ttotal: 564ms\tremaining: 1.3s\n100:\tlearn: 0.0032663\ttotal: 568ms\tremaining: 1.29s\n101:\tlearn: 0.0032156\ttotal: 572ms\tremaining: 1.28s\n102:\tlearn: 0.0031754\ttotal: 579ms\tremaining: 1.27s\n103:\tlearn: 0.0031284\ttotal: 583ms\tremaining: 1.27s\n104:\tlearn: 0.0030811\ttotal: 588ms\tremaining: 1.26s\n105:\tlearn: 0.0030403\ttotal: 592ms\tremaining: 1.25s\n106:\tlearn: 0.0030020\ttotal: 597ms\tremaining: 1.24s\n107:\tlearn: 0.0029634\ttotal: 601ms\tremaining: 1.24s\n108:\tlearn: 0.0029273\ttotal: 605ms\tremaining: 1.23s\n109:\tlearn: 0.0028869\ttotal: 610ms\tremaining: 1.22s\n110:\tlearn: 0.0028483\ttotal: 614ms\tremaining: 1.21s\n111:\tlearn: 0.0028120\ttotal: 619ms\tremaining: 1.2s\n112:\tlearn: 0.0027827\ttotal: 624ms\tremaining: 1.2s\n113:\tlearn: 0.0027470\ttotal: 629ms\tremaining: 1.19s\n114:\tlearn: 0.0027105\ttotal: 634ms\tremaining: 1.19s\n115:\tlearn: 0.0026813\ttotal: 639ms\tremaining: 1.18s\n116:\tlearn: 0.0026458\ttotal: 643ms\tremaining: 1.17s\n117:\tlearn: 0.0026227\ttotal: 648ms\tremaining: 1.16s\n118:\tlearn: 0.0025958\ttotal: 652ms\tremaining: 1.16s\n119:\tlearn: 0.0025668\ttotal: 657ms\tremaining: 1.15s\n120:\tlearn: 0.0025374\ttotal: 663ms\tremaining: 1.15s\n121:\tlearn: 0.0025106\ttotal: 668ms\tremaining: 1.14s\n122:\tlearn: 0.0024827\ttotal: 673ms\tremaining: 1.13s\n123:\tlearn: 0.0024592\ttotal: 678ms\tremaining: 1.13s\n124:\tlearn: 0.0024325\ttotal: 682ms\tremaining: 1.12s\n125:\tlearn: 0.0024091\ttotal: 687ms\tremaining: 1.11s\n126:\tlearn: 0.0023871\ttotal: 691ms\tremaining: 1.1s\n127:\tlearn: 0.0023607\ttotal: 697ms\tremaining: 1.1s\n128:\tlearn: 0.0023372\ttotal: 702ms\tremaining: 1.09s\n129:\tlearn: 0.0023152\ttotal: 707ms\tremaining: 1.09s\n130:\tlearn: 0.0022932\ttotal: 712ms\tremaining: 1.08s\n131:\tlearn: 0.0022703\ttotal: 716ms\tremaining: 1.07s\n132:\tlearn: 0.0022466\ttotal: 720ms\tremaining: 1.07s\n133:\tlearn: 0.0022221\ttotal: 726ms\tremaining: 1.06s\n134:\tlearn: 0.0022025\ttotal: 731ms\tremaining: 1.05s\n135:\tlearn: 0.0021796\ttotal: 736ms\tremaining: 1.05s\n136:\tlearn: 0.0021579\ttotal: 740ms\tremaining: 1.04s\n137:\tlearn: 0.0021389\ttotal: 745ms\tremaining: 1.04s\n138:\tlearn: 0.0021176\ttotal: 749ms\tremaining: 1.03s\n139:\tlearn: 0.0020972\ttotal: 754ms\tremaining: 1.02s\n140:\tlearn: 0.0020792\ttotal: 759ms\tremaining: 1.02s\n141:\tlearn: 0.0020606\ttotal: 763ms\tremaining: 1.01s\n142:\tlearn: 0.0020395\ttotal: 768ms\tremaining: 1s\n143:\tlearn: 0.0020209\ttotal: 772ms\tremaining: 997ms\n144:\tlearn: 0.0020059\ttotal: 777ms\tremaining: 991ms\n145:\tlearn: 0.0019890\ttotal: 781ms\tremaining: 985ms\n146:\tlearn: 0.0019740\ttotal: 786ms\tremaining: 978ms\n147:\tlearn: 0.0019597\ttotal: 791ms\tremaining: 972ms\n148:\tlearn: 0.0019422\ttotal: 796ms\tremaining: 966ms\n149:\tlearn: 0.0019253\ttotal: 800ms\tremaining: 960ms\n150:\tlearn: 0.0019124\ttotal: 805ms\tremaining: 954ms\n151:\tlearn: 0.0018964\ttotal: 809ms\tremaining: 948ms\n152:\tlearn: 0.0018773\ttotal: 815ms\tremaining: 942ms\n153:\tlearn: 0.0018612\ttotal: 820ms\tremaining: 937ms\n154:\tlearn: 0.0018437\ttotal: 825ms\tremaining: 931ms\n155:\tlearn: 0.0018302\ttotal: 829ms\tremaining: 925ms\n156:\tlearn: 0.0018141\ttotal: 833ms\tremaining: 918ms\n157:\tlearn: 0.0018014\ttotal: 838ms\tremaining: 912ms\n158:\tlearn: 0.0017864\ttotal: 842ms\tremaining: 906ms\n159:\tlearn: 0.0017718\ttotal: 848ms\tremaining: 901ms\n160:\tlearn: 0.0017578\ttotal: 852ms\tremaining: 894ms\n161:\tlearn: 0.0017448\ttotal: 856ms\tremaining: 888ms\n162:\tlearn: 0.0017303\ttotal: 862ms\tremaining: 883ms\n163:\tlearn: 0.0017173\ttotal: 866ms\tremaining: 877ms\n164:\tlearn: 0.0017049\ttotal: 870ms\tremaining: 870ms\n165:\tlearn: 0.0016905\ttotal: 875ms\tremaining: 864ms\n166:\tlearn: 0.0016777\ttotal: 879ms\tremaining: 858ms\n167:\tlearn: 0.0016649\ttotal: 884ms\tremaining: 852ms\n168:\tlearn: 0.0016532\ttotal: 889ms\tremaining: 847ms\n169:\tlearn: 0.0016401\ttotal: 893ms\tremaining: 841ms\n170:\tlearn: 0.0016295\ttotal: 897ms\tremaining: 834ms\n171:\tlearn: 0.0016185\ttotal: 902ms\tremaining: 828ms\n172:\tlearn: 0.0016062\ttotal: 906ms\tremaining: 823ms\n173:\tlearn: 0.0015959\ttotal: 911ms\tremaining: 817ms\n174:\tlearn: 0.0015836\ttotal: 915ms\tremaining: 810ms\n175:\tlearn: 0.0015716\ttotal: 920ms\tremaining: 805ms\n176:\tlearn: 0.0015616\ttotal: 925ms\tremaining: 800ms\n177:\tlearn: 0.0015521\ttotal: 930ms\tremaining: 794ms\n178:\tlearn: 0.0015407\ttotal: 934ms\tremaining: 788ms\n179:\tlearn: 0.0015316\ttotal: 939ms\tremaining: 783ms\n180:\tlearn: 0.0015207\ttotal: 943ms\tremaining: 777ms\n181:\tlearn: 0.0015129\ttotal: 949ms\tremaining: 772ms\n182:\tlearn: 0.0015022\ttotal: 953ms\tremaining: 766ms\n183:\tlearn: 0.0014914\ttotal: 958ms\tremaining: 760ms\n184:\tlearn: 0.0014820\ttotal: 962ms\tremaining: 754ms\n185:\tlearn: 0.0014723\ttotal: 968ms\tremaining: 749ms\n186:\tlearn: 0.0014622\ttotal: 972ms\tremaining: 743ms\n187:\tlearn: 0.0014534\ttotal: 977ms\tremaining: 738ms\n188:\tlearn: 0.0014456\ttotal: 982ms\tremaining: 732ms\n189:\tlearn: 0.0014365\ttotal: 987ms\tremaining: 727ms\n190:\tlearn: 0.0014268\ttotal: 992ms\tremaining: 722ms\n191:\tlearn: 0.0014181\ttotal: 996ms\tremaining: 716ms\n192:\tlearn: 0.0014095\ttotal: 1s\tremaining: 711ms\n193:\tlearn: 0.0014003\ttotal: 1.01s\tremaining: 706ms\n194:\tlearn: 0.0013913\ttotal: 1.01s\tremaining: 700ms\n195:\tlearn: 0.0013837\ttotal: 1.02s\tremaining: 695ms\n196:\tlearn: 0.0013747\ttotal: 1.03s\tremaining: 694ms\n197:\tlearn: 0.0013661\ttotal: 1.03s\tremaining: 688ms\n198:\tlearn: 0.0013575\ttotal: 1.04s\tremaining: 684ms\n199:\tlearn: 0.0013487\ttotal: 1.04s\tremaining: 679ms\n200:\tlearn: 0.0013413\ttotal: 1.05s\tremaining: 673ms\n201:\tlearn: 0.0013328\ttotal: 1.05s\tremaining: 667ms\n202:\tlearn: 0.0013248\ttotal: 1.06s\tremaining: 662ms\n203:\tlearn: 0.0013170\ttotal: 1.06s\tremaining: 656ms\n204:\tlearn: 0.0013093\ttotal: 1.07s\tremaining: 650ms\n205:\tlearn: 0.0013018\ttotal: 1.07s\tremaining: 644ms\n206:\tlearn: 0.0012942\ttotal: 1.07s\tremaining: 638ms\n207:\tlearn: 0.0012862\ttotal: 1.08s\tremaining: 633ms\n208:\tlearn: 0.0012782\ttotal: 1.08s\tremaining: 627ms\n209:\tlearn: 0.0012707\ttotal: 1.09s\tremaining: 622ms\n210:\tlearn: 0.0012633\ttotal: 1.09s\tremaining: 617ms\n211:\tlearn: 0.0012564\ttotal: 1.1s\tremaining: 611ms\n212:\tlearn: 0.0012488\ttotal: 1.1s\tremaining: 606ms\n213:\tlearn: 0.0012419\ttotal: 1.11s\tremaining: 600ms\n214:\tlearn: 0.0012355\ttotal: 1.11s\tremaining: 595ms\n215:\tlearn: 0.0012288\ttotal: 1.12s\tremaining: 589ms\n216:\tlearn: 0.0012221\ttotal: 1.12s\tremaining: 584ms\n217:\tlearn: 0.0012150\ttotal: 1.13s\tremaining: 578ms\n218:\tlearn: 0.0012093\ttotal: 1.13s\tremaining: 573ms\n219:\tlearn: 0.0012029\ttotal: 1.13s\tremaining: 567ms\n220:\tlearn: 0.0011965\ttotal: 1.14s\tremaining: 562ms\n221:\tlearn: 0.0011906\ttotal: 1.14s\tremaining: 556ms\n222:\tlearn: 0.0011840\ttotal: 1.15s\tremaining: 551ms\n223:\tlearn: 0.0011773\ttotal: 1.15s\tremaining: 545ms\n224:\tlearn: 0.0011713\ttotal: 1.16s\tremaining: 540ms\n225:\tlearn: 0.0011650\ttotal: 1.16s\tremaining: 535ms\n226:\tlearn: 0.0011589\ttotal: 1.17s\tremaining: 529ms\n227:\tlearn: 0.0011525\ttotal: 1.17s\tremaining: 524ms\n228:\tlearn: 0.0011467\ttotal: 1.18s\tremaining: 518ms\n229:\tlearn: 0.0011420\ttotal: 1.18s\tremaining: 513ms\n230:\tlearn: 0.0011362\ttotal: 1.19s\tremaining: 508ms\n231:\tlearn: 0.0011307\ttotal: 1.19s\tremaining: 503ms\n232:\tlearn: 0.0011257\ttotal: 1.19s\tremaining: 497ms\n233:\tlearn: 0.0011201\ttotal: 1.2s\tremaining: 492ms\n234:\tlearn: 0.0011142\ttotal: 1.2s\tremaining: 487ms\n235:\tlearn: 0.0011082\ttotal: 1.21s\tremaining: 481ms\n236:\tlearn: 0.0011025\ttotal: 1.21s\tremaining: 476ms\n237:\tlearn: 0.0010967\ttotal: 1.22s\tremaining: 471ms\n238:\tlearn: 0.0010914\ttotal: 1.22s\tremaining: 465ms\n239:\tlearn: 0.0010857\ttotal: 1.23s\tremaining: 460ms\n240:\tlearn: 0.0010805\ttotal: 1.23s\tremaining: 455ms\n241:\tlearn: 0.0010753\ttotal: 1.24s\tremaining: 449ms\n242:\tlearn: 0.0010708\ttotal: 1.24s\tremaining: 444ms\n243:\tlearn: 0.0010667\ttotal: 1.25s\tremaining: 439ms\n244:\tlearn: 0.0010606\ttotal: 1.25s\tremaining: 434ms\n245:\tlearn: 0.0010558\ttotal: 1.25s\tremaining: 428ms\n246:\tlearn: 0.0010500\ttotal: 1.26s\tremaining: 423ms\n247:\tlearn: 0.0010451\ttotal: 1.26s\tremaining: 418ms\n248:\tlearn: 0.0010401\ttotal: 1.27s\tremaining: 413ms\n249:\tlearn: 0.0010351\ttotal: 1.27s\tremaining: 408ms\n250:\tlearn: 0.0010301\ttotal: 1.28s\tremaining: 402ms\n251:\tlearn: 0.0010253\ttotal: 1.28s\tremaining: 397ms\n252:\tlearn: 0.0010205\ttotal: 1.29s\tremaining: 392ms\n253:\tlearn: 0.0010166\ttotal: 1.29s\tremaining: 387ms\n254:\tlearn: 0.0010118\ttotal: 1.3s\tremaining: 382ms\n255:\tlearn: 0.0010070\ttotal: 1.3s\tremaining: 377ms\n256:\tlearn: 0.0010030\ttotal: 1.31s\tremaining: 371ms\n257:\tlearn: 0.0009984\ttotal: 1.31s\tremaining: 366ms\n258:\tlearn: 0.0009945\ttotal: 1.32s\tremaining: 361ms\n259:\tlearn: 0.0009907\ttotal: 1.32s\tremaining: 356ms\n260:\tlearn: 0.0009872\ttotal: 1.32s\tremaining: 350ms\n261:\tlearn: 0.0009824\ttotal: 1.33s\tremaining: 345ms\n262:\tlearn: 0.0009779\ttotal: 1.33s\tremaining: 340ms\n263:\tlearn: 0.0009737\ttotal: 1.34s\tremaining: 335ms\n264:\tlearn: 0.0009694\ttotal: 1.34s\tremaining: 329ms\n265:\tlearn: 0.0009655\ttotal: 1.35s\tremaining: 324ms\n266:\tlearn: 0.0009613\ttotal: 1.35s\tremaining: 319ms\n267:\tlearn: 0.0009568\ttotal: 1.36s\tremaining: 314ms\n268:\tlearn: 0.0009526\ttotal: 1.36s\tremaining: 309ms\n269:\tlearn: 0.0009485\ttotal: 1.37s\tremaining: 304ms\n270:\tlearn: 0.0009451\ttotal: 1.37s\tremaining: 298ms\n271:\tlearn: 0.0009412\ttotal: 1.38s\tremaining: 293ms\n272:\tlearn: 0.0009377\ttotal: 1.38s\tremaining: 288ms\n273:\tlearn: 0.0009343\ttotal: 1.39s\tremaining: 283ms\n274:\tlearn: 0.0009301\ttotal: 1.39s\tremaining: 278ms\n275:\tlearn: 0.0009260\ttotal: 1.39s\tremaining: 273ms\n276:\tlearn: 0.0009220\ttotal: 1.4s\tremaining: 268ms\n277:\tlearn: 0.0009177\ttotal: 1.4s\tremaining: 262ms\n278:\tlearn: 0.0009138\ttotal: 1.41s\tremaining: 257ms\n279:\tlearn: 0.0009099\ttotal: 1.41s\tremaining: 252ms\n280:\tlearn: 0.0009062\ttotal: 1.42s\tremaining: 247ms\n281:\tlearn: 0.0009022\ttotal: 1.42s\tremaining: 242ms\n282:\tlearn: 0.0008988\ttotal: 1.43s\tremaining: 237ms\n283:\tlearn: 0.0008955\ttotal: 1.43s\tremaining: 232ms\n284:\tlearn: 0.0008920\ttotal: 1.44s\tremaining: 227ms\n285:\tlearn: 0.0008886\ttotal: 1.44s\tremaining: 221ms\n286:\tlearn: 0.0008852\ttotal: 1.44s\tremaining: 216ms\n287:\tlearn: 0.0008813\ttotal: 1.45s\tremaining: 211ms\n288:\tlearn: 0.0008777\ttotal: 1.45s\tremaining: 206ms\n289:\tlearn: 0.0008739\ttotal: 1.46s\tremaining: 201ms\n290:\tlearn: 0.0008706\ttotal: 1.46s\tremaining: 196ms\n291:\tlearn: 0.0008673\ttotal: 1.47s\tremaining: 191ms\n292:\tlearn: 0.0008637\ttotal: 1.47s\tremaining: 186ms\n293:\tlearn: 0.0008602\ttotal: 1.48s\tremaining: 181ms\n294:\tlearn: 0.0008568\ttotal: 1.48s\tremaining: 176ms\n295:\tlearn: 0.0008532\ttotal: 1.48s\tremaining: 171ms\n296:\tlearn: 0.0008500\ttotal: 1.49s\tremaining: 165ms\n297:\tlearn: 0.0008466\ttotal: 1.49s\tremaining: 160ms\n298:\tlearn: 0.0008429\ttotal: 1.5s\tremaining: 155ms\n299:\tlearn: 0.0008398\ttotal: 1.5s\tremaining: 150ms\n300:\tlearn: 0.0008369\ttotal: 1.51s\tremaining: 145ms\n301:\tlearn: 0.0008336\ttotal: 1.51s\tremaining: 140ms\n302:\tlearn: 0.0008304\ttotal: 1.51s\tremaining: 135ms\n303:\tlearn: 0.0008277\ttotal: 1.52s\tremaining: 130ms\n304:\tlearn: 0.0008248\ttotal: 1.52s\tremaining: 125ms\n305:\tlearn: 0.0008217\ttotal: 1.53s\tremaining: 120ms\n306:\tlearn: 0.0008186\ttotal: 1.53s\tremaining: 115ms\n307:\tlearn: 0.0008156\ttotal: 1.54s\tremaining: 110ms\n308:\tlearn: 0.0008124\ttotal: 1.54s\tremaining: 105ms\n309:\tlearn: 0.0008095\ttotal: 1.55s\tremaining: 99.9ms\n310:\tlearn: 0.0008065\ttotal: 1.55s\tremaining: 94.8ms\n311:\tlearn: 0.0008029\ttotal: 1.56s\tremaining: 89.8ms\n312:\tlearn: 0.0007996\ttotal: 1.56s\tremaining: 84.8ms\n313:\tlearn: 0.0007964\ttotal: 1.57s\tremaining: 79.8ms\n314:\tlearn: 0.0007938\ttotal: 1.57s\tremaining: 74.8ms\n315:\tlearn: 0.0007908\ttotal: 1.57s\tremaining: 69.8ms\n316:\tlearn: 0.0007880\ttotal: 1.58s\tremaining: 64.8ms\n317:\tlearn: 0.0007853\ttotal: 1.58s\tremaining: 59.8ms\n318:\tlearn: 0.0007824\ttotal: 1.59s\tremaining: 54.8ms\n319:\tlearn: 0.0007793\ttotal: 1.59s\tremaining: 49.8ms\n320:\tlearn: 0.0007763\ttotal: 1.6s\tremaining: 44.8ms\n321:\tlearn: 0.0007734\ttotal: 1.6s\tremaining: 39.8ms\n322:\tlearn: 0.0007710\ttotal: 1.61s\tremaining: 34.8ms\n323:\tlearn: 0.0007683\ttotal: 1.61s\tremaining: 29.8ms\n324:\tlearn: 0.0007656\ttotal: 1.62s\tremaining: 24.9ms\n325:\tlearn: 0.0007631\ttotal: 1.62s\tremaining: 19.9ms\n326:\tlearn: 0.0007604\ttotal: 1.63s\tremaining: 14.9ms\n327:\tlearn: 0.0007581\ttotal: 1.63s\tremaining: 9.94ms\n328:\tlearn: 0.0007556\ttotal: 1.64s\tremaining: 4.97ms\n329:\tlearn: 0.0007528\ttotal: 1.64s\tremaining: 0us\nBest Estimator : <catboost.core.CatBoostClassifier object at 0x000001F5763F4448>\nBest Params : {'bagging_temperature': 4, 'border_count': 6, 'depth': 9, 'l2_leaf_reg': 0.10826676390227397, 'learning_rate': 0.4301458457573194, 'min_data_in_leaf': 1, 'n_estimators': 330}\n"
    },
    {
     "output_type": "display_data",
     "data": {
      "text/plain": "   mean_fit_time  std_fit_time  mean_score_time  std_score_time  \\\n0       6.049443      0.006483         0.049866        0.001995   \n1       8.029692      0.148104         0.044383        0.014457   \n2       0.038895      0.020947         0.000000        0.000000   \n3       0.033913      0.005984         0.000000        0.000000   \n4       0.711621      0.038892         0.043883        0.011967   \n\n  param_bagging_temperature param_border_count param_depth param_l2_leaf_reg  \\\n0                         0                 25           6          0.412046   \n1                         2                 22           5          0.210108   \n2                         4                 12          29          0.185328   \n3                         1                 14          24          0.311353   \n4                         1                 16           4          0.298876   \n\n  param_learning_rate param_min_data_in_leaf param_n_estimators  \\\n0            0.526382                      3                230   \n1             0.45274                      1                430   \n2            0.108377                      3                230   \n3            0.632384                      4                180   \n4            0.568746                      4                 30   \n\n                                              params  split0_test_score  \\\n0  {'bagging_temperature': 0, 'border_count': 25,...           0.254601   \n1  {'bagging_temperature': 2, 'border_count': 22,...           0.208589   \n2  {'bagging_temperature': 4, 'border_count': 12,...                NaN   \n3  {'bagging_temperature': 1, 'border_count': 14,...                NaN   \n4  {'bagging_temperature': 1, 'border_count': 16,...           0.226994   \n\n   split1_test_score  mean_test_score  std_test_score  rank_test_score  \n0           0.276074         0.265337        0.010736               18  \n1           0.269939         0.239264        0.030675              157  \n2                NaN              NaN             NaN              306  \n3                NaN              NaN             NaN              321  \n4           0.257669         0.242331        0.015337              141  ",
      "text/html": "<div>\n<style scoped>\n    .dataframe tbody tr th:only-of-type {\n        vertical-align: middle;\n    }\n\n    .dataframe tbody tr th {\n        vertical-align: top;\n    }\n\n    .dataframe thead th {\n        text-align: right;\n    }\n</style>\n<table border=\"1\" class=\"dataframe\">\n  <thead>\n    <tr style=\"text-align: right;\">\n      <th></th>\n      <th>mean_fit_time</th>\n      <th>std_fit_time</th>\n      <th>mean_score_time</th>\n      <th>std_score_time</th>\n      <th>param_bagging_temperature</th>\n      <th>param_border_count</th>\n      <th>param_depth</th>\n      <th>param_l2_leaf_reg</th>\n      <th>param_learning_rate</th>\n      <th>param_min_data_in_leaf</th>\n      <th>param_n_estimators</th>\n      <th>params</th>\n      <th>split0_test_score</th>\n      <th>split1_test_score</th>\n      <th>mean_test_score</th>\n      <th>std_test_score</th>\n      <th>rank_test_score</th>\n    </tr>\n  </thead>\n  <tbody>\n    <tr>\n      <td>0</td>\n      <td>6.049443</td>\n      <td>0.006483</td>\n      <td>0.049866</td>\n      <td>0.001995</td>\n      <td>0</td>\n      <td>25</td>\n      <td>6</td>\n      <td>0.412046</td>\n      <td>0.526382</td>\n      <td>3</td>\n      <td>230</td>\n      <td>{'bagging_temperature': 0, 'border_count': 25,...</td>\n      <td>0.254601</td>\n      <td>0.276074</td>\n      <td>0.265337</td>\n      <td>0.010736</td>\n      <td>18</td>\n    </tr>\n    <tr>\n      <td>1</td>\n      <td>8.029692</td>\n      <td>0.148104</td>\n      <td>0.044383</td>\n      <td>0.014457</td>\n      <td>2</td>\n      <td>22</td>\n      <td>5</td>\n      <td>0.210108</td>\n      <td>0.45274</td>\n      <td>1</td>\n      <td>430</td>\n      <td>{'bagging_temperature': 2, 'border_count': 22,...</td>\n      <td>0.208589</td>\n      <td>0.269939</td>\n      <td>0.239264</td>\n      <td>0.030675</td>\n      <td>157</td>\n    </tr>\n    <tr>\n      <td>2</td>\n      <td>0.038895</td>\n      <td>0.020947</td>\n      <td>0.000000</td>\n      <td>0.000000</td>\n      <td>4</td>\n      <td>12</td>\n      <td>29</td>\n      <td>0.185328</td>\n      <td>0.108377</td>\n      <td>3</td>\n      <td>230</td>\n      <td>{'bagging_temperature': 4, 'border_count': 12,...</td>\n      <td>NaN</td>\n      <td>NaN</td>\n      <td>NaN</td>\n      <td>NaN</td>\n      <td>306</td>\n    </tr>\n    <tr>\n      <td>3</td>\n      <td>0.033913</td>\n      <td>0.005984</td>\n      <td>0.000000</td>\n      <td>0.000000</td>\n      <td>1</td>\n      <td>14</td>\n      <td>24</td>\n      <td>0.311353</td>\n      <td>0.632384</td>\n      <td>4</td>\n      <td>180</td>\n      <td>{'bagging_temperature': 1, 'border_count': 14,...</td>\n      <td>NaN</td>\n      <td>NaN</td>\n      <td>NaN</td>\n      <td>NaN</td>\n      <td>321</td>\n    </tr>\n    <tr>\n      <td>4</td>\n      <td>0.711621</td>\n      <td>0.038892</td>\n      <td>0.043883</td>\n      <td>0.011967</td>\n      <td>1</td>\n      <td>16</td>\n      <td>4</td>\n      <td>0.298876</td>\n      <td>0.568746</td>\n      <td>4</td>\n      <td>30</td>\n      <td>{'bagging_temperature': 1, 'border_count': 16,...</td>\n      <td>0.226994</td>\n      <td>0.257669</td>\n      <td>0.242331</td>\n      <td>0.015337</td>\n      <td>141</td>\n    </tr>\n  </tbody>\n</table>\n</div>"
     },
     "metadata": {}
    },
    {
     "output_type": "stream",
     "name": "stdout",
     "text": "Grid Search Score : 0.2865853658536585\nEnd Time : 2020-07-31 13:56:56.492439\nDuration Time : 11:30:23.665698\n"
    }
   ],
   "source": [
    "random_search(model_catb , catb_params, X_train, y_train, X_val, y_val)"
   ]
  },
  {
   "cell_type": "code",
   "execution_count": null,
   "metadata": {},
   "outputs": [],
   "source": []
  }
 ],
 "metadata": {
  "kernelspec": {
   "display_name": "Python 3",
   "language": "python",
   "name": "python3"
  },
  "language_info": {
   "codemirror_mode": {
    "name": "ipython",
    "version": 3
   },
   "file_extension": ".py",
   "mimetype": "text/x-python",
   "name": "python",
   "nbconvert_exporter": "python",
   "pygments_lexer": "ipython3",
   "version": "3.7.4-final"
  }
 },
 "nbformat": 4,
 "nbformat_minor": 2
}